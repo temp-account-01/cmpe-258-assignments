{
  "nbformat": 4,
  "nbformat_minor": 0,
  "metadata": {
    "colab": {
      "name": "Assignment 2",
      "provenance": []
    },
    "kernelspec": {
      "name": "python3",
      "display_name": "Python 3"
    },
    "language_info": {
      "name": "python"
    },
    "accelerator": "GPU"
  },
  "cells": [
    {
      "cell_type": "markdown",
      "source": [
        "#Part - 1 : Tensorflow "
      ],
      "metadata": {
        "id": "kG02bzixIqzw"
      }
    },
    {
      "cell_type": "code",
      "execution_count": 2,
      "metadata": {
        "id": "TwMYXpYfGsZo"
      },
      "outputs": [],
      "source": [
        "import tensorflow as tf"
      ]
    },
    {
      "cell_type": "code",
      "source": [
        "print(tf.add(1, 2))\n",
        "print(tf.add([1, 2], [3, 4]))\n",
        "print(tf.square(2) + tf.square(3)) "
      ],
      "metadata": {
        "colab": {
          "base_uri": "https://localhost:8080/"
        },
        "id": "PsgpMz8rHrTp",
        "outputId": "f82fca42-c6d2-4e02-cc2b-2386f93d6cbe"
      },
      "execution_count": 3,
      "outputs": [
        {
          "output_type": "stream",
          "name": "stdout",
          "text": [
            "tf.Tensor(3, shape=(), dtype=int32)\n",
            "tf.Tensor([4 6], shape=(2,), dtype=int32)\n",
            "tf.Tensor(25, shape=(), dtype=int32)\n",
            "tf.Tensor(13, shape=(), dtype=int32)\n"
          ]
        }
      ]
    },
    {
      "cell_type": "code",
      "source": [
        "x = tf.matmul([[1],[3]], [[2, 3]])\n",
        "print(x)\n",
        "print(x.shape)\n",
        "print(x.dtype)"
      ],
      "metadata": {
        "colab": {
          "base_uri": "https://localhost:8080/"
        },
        "id": "Da6GG10eJ8Ox",
        "outputId": "0e4e1003-aed5-4022-8f6d-a407e69c022b"
      },
      "execution_count": 7,
      "outputs": [
        {
          "output_type": "stream",
          "name": "stdout",
          "text": [
            "tf.Tensor(\n",
            "[[2 3]\n",
            " [6 9]], shape=(2, 2), dtype=int32)\n",
            "(2, 2)\n",
            "<dtype: 'int32'>\n"
          ]
        }
      ]
    },
    {
      "cell_type": "code",
      "source": [
        "import numpy as np\n",
        "\n",
        "\n",
        "print(\"Implicit conversion of numpy to tensorflow\", tf.multiply(np.ones([7,7]), 1))\n",
        "\n",
        "tensor = tf.multiply(np.ones(7), 7)\n",
        "print(\"\\nImplicit converserison of tensor to numpy: \",type(np.add(tensor, 1)))\n",
        "\n",
        "print(\"The .numpy() method explicitly converts a Tensor to a numpy array\", type(tensor.numpy()))"
      ],
      "metadata": {
        "colab": {
          "base_uri": "https://localhost:8080/"
        },
        "id": "FuA36f4TKEXx",
        "outputId": "021a590d-85fd-4dd8-eac2-05620e8b3085"
      },
      "execution_count": 29,
      "outputs": [
        {
          "output_type": "stream",
          "name": "stdout",
          "text": [
            "Implicit conversion of numpy to tensorflow tf.Tensor(\n",
            "[[1. 1. 1. 1. 1. 1. 1.]\n",
            " [1. 1. 1. 1. 1. 1. 1.]\n",
            " [1. 1. 1. 1. 1. 1. 1.]\n",
            " [1. 1. 1. 1. 1. 1. 1.]\n",
            " [1. 1. 1. 1. 1. 1. 1.]\n",
            " [1. 1. 1. 1. 1. 1. 1.]\n",
            " [1. 1. 1. 1. 1. 1. 1.]], shape=(7, 7), dtype=float64)\n",
            "\n",
            "Implicit converserison of tensor to numpy:  <class 'numpy.ndarray'>\n",
            "The .numpy() method explicitly converts a Tensor to a numpy array <class 'numpy.ndarray'>\n"
          ]
        }
      ]
    },
    {
      "cell_type": "markdown",
      "source": [
        "Einsum Operations:"
      ],
      "metadata": {
        "id": "3xkAoN86R-If"
      }
    },
    {
      "cell_type": "code",
      "source": [
        "m0 = tf.random.normal(shape=[4, 3])\n",
        "m1 = tf.random.normal(shape=[3, 6])\n",
        "e = tf.einsum('ij,jk->ik', m0, m1)\n",
        "print(e.shape)"
      ],
      "metadata": {
        "colab": {
          "base_uri": "https://localhost:8080/"
        },
        "id": "hycjjNSIRYgK",
        "outputId": "8522ce29-01fb-49bd-d429-6c9e82fa1b6e"
      },
      "execution_count": 22,
      "outputs": [
        {
          "output_type": "stream",
          "name": "stdout",
          "text": [
            "(4, 6)\n"
          ]
        }
      ]
    },
    {
      "cell_type": "code",
      "source": [
        "u = tf.random.normal(shape=[5])\n",
        "v = tf.random.normal(shape=[5])\n",
        "e = tf.einsum('i,i->', u, v) \n",
        "print(e.shape)"
      ],
      "metadata": {
        "colab": {
          "base_uri": "https://localhost:8080/"
        },
        "id": "ANTlcuGlSQ9J",
        "outputId": "b8615a72-1e06-43da-d3ec-28a490a98519"
      },
      "execution_count": 23,
      "outputs": [
        {
          "output_type": "stream",
          "name": "stdout",
          "text": [
            "()\n"
          ]
        }
      ]
    },
    {
      "cell_type": "code",
      "source": [
        "m = tf.ones(2,3)\n",
        "e = tf.einsum('ij->ji', m0)\n",
        "print(e.shape)"
      ],
      "metadata": {
        "colab": {
          "base_uri": "https://localhost:8080/"
        },
        "id": "7ldDUv5qSVpN",
        "outputId": "bd9fc1b9-ea76-4bc2-8950-acf77299c6a5"
      },
      "execution_count": 24,
      "outputs": [
        {
          "output_type": "stream",
          "name": "stdout",
          "text": [
            "(3, 4)\n"
          ]
        }
      ]
    },
    {
      "cell_type": "code",
      "source": [
        "m = tf.reshape(tf.range(9), [3,3])\n",
        "diag = tf.einsum('ii->i', m)\n",
        "print(diag.shape)"
      ],
      "metadata": {
        "colab": {
          "base_uri": "https://localhost:8080/"
        },
        "id": "-burDbj-SXdH",
        "outputId": "2a2300ae-7964-47ca-dbc4-e0763e842273"
      },
      "execution_count": 19,
      "outputs": [
        {
          "output_type": "stream",
          "name": "stdout",
          "text": [
            "(3,)\n"
          ]
        }
      ]
    },
    {
      "cell_type": "markdown",
      "source": [
        "#Part - 2 Pytorch"
      ],
      "metadata": {
        "id": "7Kh5pkbJIvKA"
      }
    },
    {
      "cell_type": "code",
      "execution_count": null,
      "metadata": {
        "id": "PJicM5AeVMDQ"
      },
      "outputs": [],
      "source": [
        "import torch\n",
        "import numpy as np"
      ]
    },
    {
      "cell_type": "code",
      "source": [
        "data = [[1, 2], [3, 4]]\n",
        "np_array = np.array(data)\n",
        "x_data = torch.tensor(data)"
      ],
      "metadata": {
        "id": "lqmfHdq5wqjj"
      },
      "execution_count": null,
      "outputs": []
    },
    {
      "cell_type": "code",
      "source": [
        "print(\"The .from_numpy() method explicitly converts a numpy to a tensor array\", type(torch.from_numpy(np_array)))\n",
        "print(\"The .numpy() method explicitly converts a tensor to a numpy array\", type(x_data.numpy()))\n",
        "\n",
        "print(f\"One tensor to another:\",torch.ones_like(x_data))"
      ],
      "metadata": {
        "id": "9AbAeKxfwvoP",
        "colab": {
          "base_uri": "https://localhost:8080/"
        },
        "outputId": "49377df6-a5ea-4c12-dc16-eaaaca3ecf7c"
      },
      "execution_count": null,
      "outputs": [
        {
          "output_type": "stream",
          "name": "stdout",
          "text": [
            "The .from_numpy() method explicitly converts a numpy to a tensor array <class 'torch.Tensor'>\n",
            "The .numpy() method explicitly converts a tensor to a numpy array <class 'numpy.ndarray'>\n",
            "One tensor to another: tensor([[1, 1],\n",
            "        [1, 1]])\n"
          ]
        }
      ]
    },
    {
      "cell_type": "code",
      "source": [
        "shape = (7,8,)\n",
        "rand_tensor = torch.rand(shape)\n",
        "ones_tensor = torch.ones(shape)\n",
        "zeros_tensor = torch.zeros(shape)\n",
        "\n",
        "print(f\"Random Tensor: \\n {rand_tensor} \\n\")\n",
        "print(f\"Ones Tensor: \\n {ones_tensor} \\n\")\n",
        "print(f\"Zeros Tensor: \\n {zeros_tensor}\")"
      ],
      "metadata": {
        "colab": {
          "base_uri": "https://localhost:8080/"
        },
        "id": "Tr4XxhTGxCUN",
        "outputId": "d9762152-4caf-489b-af8d-4a44f62f698b"
      },
      "execution_count": null,
      "outputs": [
        {
          "output_type": "stream",
          "name": "stdout",
          "text": [
            "Random Tensor: \n",
            " tensor([[0.1568, 0.9591, 0.9281, 0.9728, 0.0264, 0.6206, 0.1651, 0.0591],\n",
            "        [0.5128, 0.7493, 0.0439, 0.9534, 0.5213, 0.5494, 0.2514, 0.0388],\n",
            "        [0.4743, 0.3307, 0.2680, 0.7279, 0.9699, 0.3415, 0.1660, 0.6050],\n",
            "        [0.2828, 0.4466, 0.6015, 0.7886, 0.4404, 0.3498, 0.5910, 0.4759],\n",
            "        [0.7708, 0.7207, 0.9499, 0.0682, 0.7599, 0.6176, 0.8562, 0.9225],\n",
            "        [0.7473, 0.5448, 0.7315, 0.1562, 0.6996, 0.9827, 0.2126, 0.5390],\n",
            "        [0.1041, 0.1564, 0.5323, 0.4284, 0.9244, 0.2267, 0.8299, 0.9503]]) \n",
            "\n",
            "Ones Tensor: \n",
            " tensor([[1., 1., 1., 1., 1., 1., 1., 1.],\n",
            "        [1., 1., 1., 1., 1., 1., 1., 1.],\n",
            "        [1., 1., 1., 1., 1., 1., 1., 1.],\n",
            "        [1., 1., 1., 1., 1., 1., 1., 1.],\n",
            "        [1., 1., 1., 1., 1., 1., 1., 1.],\n",
            "        [1., 1., 1., 1., 1., 1., 1., 1.],\n",
            "        [1., 1., 1., 1., 1., 1., 1., 1.]]) \n",
            "\n",
            "Zeros Tensor: \n",
            " tensor([[0., 0., 0., 0., 0., 0., 0., 0.],\n",
            "        [0., 0., 0., 0., 0., 0., 0., 0.],\n",
            "        [0., 0., 0., 0., 0., 0., 0., 0.],\n",
            "        [0., 0., 0., 0., 0., 0., 0., 0.],\n",
            "        [0., 0., 0., 0., 0., 0., 0., 0.],\n",
            "        [0., 0., 0., 0., 0., 0., 0., 0.],\n",
            "        [0., 0., 0., 0., 0., 0., 0., 0.]])\n"
          ]
        }
      ]
    },
    {
      "cell_type": "code",
      "source": [
        "tensor = torch.rand(5, 4)\n",
        "\n",
        "print(f\"Shape of tensor: {x_data.shape}\")\n",
        "print(f\"Datatype of tensor: {x_data.dtype}\")\n",
        "print(f\"Device tensor is stored on: {x_data.device}\")"
      ],
      "metadata": {
        "colab": {
          "base_uri": "https://localhost:8080/"
        },
        "id": "EjekMGQNxQXb",
        "outputId": "8c5d0cc0-d062-4c1a-9fa7-51466c7eb3fe"
      },
      "execution_count": null,
      "outputs": [
        {
          "output_type": "stream",
          "name": "stdout",
          "text": [
            "Shape of tensor: torch.Size([2, 2])\n",
            "Datatype of tensor: torch.int64\n",
            "Device tensor is stored on: cpu\n"
          ]
        }
      ]
    },
    {
      "cell_type": "code",
      "source": [
        "tensor = torch.ones(4, 4)\n",
        "print(f\"tensor.mul(tensor) \\n {tensor.mul(tensor)} \\n\")\n",
        "print(f\"tensor * tensor \\n {tensor * tensor}\")"
      ],
      "metadata": {
        "colab": {
          "base_uri": "https://localhost:8080/"
        },
        "id": "8rGWQcN2xu4m",
        "outputId": "3048ff1c-c42e-47a7-e65f-ee9710c38603"
      },
      "execution_count": null,
      "outputs": [
        {
          "output_type": "stream",
          "name": "stdout",
          "text": [
            "tensor.mul(tensor) \n",
            " tensor([[1., 1., 1., 1.],\n",
            "        [1., 1., 1., 1.],\n",
            "        [1., 1., 1., 1.],\n",
            "        [1., 1., 1., 1.]]) \n",
            "\n",
            "tensor * tensor \n",
            " tensor([[1., 1., 1., 1.],\n",
            "        [1., 1., 1., 1.],\n",
            "        [1., 1., 1., 1.],\n",
            "        [1., 1., 1., 1.]])\n"
          ]
        }
      ]
    }
  ]
}