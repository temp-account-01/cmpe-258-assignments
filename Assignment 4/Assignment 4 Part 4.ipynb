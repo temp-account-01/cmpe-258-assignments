{
  "nbformat": 4,
  "nbformat_minor": 0,
  "metadata": {
    "colab": {
      "name": "Assignment 4 Part 4.ipynb",
      "provenance": [],
      "collapsed_sections": [],
      "toc_visible": true
    },
    "kernelspec": {
      "name": "python3",
      "display_name": "Python 3"
    },
    "language_info": {
      "name": "python"
    }
  },
  "cells": [
    {
      "cell_type": "code",
      "execution_count": 1,
      "metadata": {
        "id": "2JPwsbEyTeAL"
      },
      "outputs": [],
      "source": [
        "import sys\n",
        "import sklearn\n",
        "import numpy as np\n",
        "import os\n",
        "import tensorflow as tf\n",
        "import matplotlib.pyplot as plt\n",
        "from tensorflow import keras\n",
        "%matplotlib inline\n",
        "np.random.seed(42)"
      ]
    },
    {
      "cell_type": "code",
      "source": [
        "#Loading the dataset into validation and training sets\n",
        "(X_train_full, y_train_full), (X_test, y_test) = keras.datasets.fashion_mnist.load_data()\n",
        "X_train_full = X_train_full / 255.0\n",
        "X_test = X_test / 255.0 # Scaling the data \n",
        "X_valid, X_train = X_train_full[:5000], X_train_full[5000:]\n",
        "y_valid, y_train = y_train_full[:5000], y_train_full[5000:]\n",
        "pixel_means = X_train.mean(axis=0, keepdims=True)\n",
        "pixel_stds = X_train.std(axis=0, keepdims=True)\n",
        "X_train = (X_train - pixel_means) / pixel_stds\n",
        "X_valid = (X_valid - pixel_means) / pixel_stds\n",
        "X_test = (X_test - pixel_means) / pixel_stds\n",
        "\n",
        "n_epochs = 10"
      ],
      "metadata": {
        "id": "c_nEUro0WtPv",
        "colab": {
          "base_uri": "https://localhost:8080/"
        },
        "outputId": "1e6ecba8-0acd-469f-97b2-0c3d49bc053c"
      },
      "execution_count": 2,
      "outputs": [
        {
          "output_type": "stream",
          "name": "stdout",
          "text": [
            "Downloading data from https://storage.googleapis.com/tensorflow/tf-keras-datasets/train-labels-idx1-ubyte.gz\n",
            "32768/29515 [=================================] - 0s 0us/step\n",
            "40960/29515 [=========================================] - 0s 0us/step\n",
            "Downloading data from https://storage.googleapis.com/tensorflow/tf-keras-datasets/train-images-idx3-ubyte.gz\n",
            "26427392/26421880 [==============================] - 0s 0us/step\n",
            "26435584/26421880 [==============================] - 0s 0us/step\n",
            "Downloading data from https://storage.googleapis.com/tensorflow/tf-keras-datasets/t10k-labels-idx1-ubyte.gz\n",
            "16384/5148 [===============================================================================================] - 0s 0us/step\n",
            "Downloading data from https://storage.googleapis.com/tensorflow/tf-keras-datasets/t10k-images-idx3-ubyte.gz\n",
            "4423680/4422102 [==============================] - 0s 0us/step\n",
            "4431872/4422102 [==============================] - 0s 0us/step\n"
          ]
        }
      ]
    },
    {
      "cell_type": "markdown",
      "source": [
        "#Activation"
      ],
      "metadata": {
        "id": "h7gSimsz4-lM"
      }
    },
    {
      "cell_type": "markdown",
      "source": [
        "1) Leaky Relu"
      ],
      "metadata": {
        "id": "ltzWTJcvZPpp"
      }
    },
    {
      "cell_type": "code",
      "source": [
        "tf.random.set_seed(42)\n",
        "np.random.seed(42)\n",
        "model = keras.models.Sequential([\n",
        "    keras.layers.Flatten(input_shape=[28, 28]),\n",
        "    keras.layers.Dense(100),\n",
        "    keras.layers.LeakyReLU(),\n",
        "    keras.layers.Dense(10, activation=\"softmax\")\n",
        "])\n",
        "model.compile(loss=\"sparse_categorical_crossentropy\",metrics=[\"accuracy\"])"
      ],
      "metadata": {
        "id": "IpADmYloWtSd"
      },
      "execution_count": 3,
      "outputs": []
    },
    {
      "cell_type": "code",
      "source": [
        "history = model.fit(X_train, y_train, epochs=n_epochs,\n",
        "                    validation_data=(X_valid, y_valid))\n",
        "model.evaluate(X_test, y_test)"
      ],
      "metadata": {
        "colab": {
          "base_uri": "https://localhost:8080/"
        },
        "id": "oIzbbt1WWtXa",
        "outputId": "0513aaa9-4ebe-4021-a2a3-0455a210e3d5"
      },
      "execution_count": 4,
      "outputs": [
        {
          "output_type": "stream",
          "name": "stdout",
          "text": [
            "Epoch 1/10\n",
            "1719/1719 [==============================] - 6s 3ms/step - loss: 0.5058 - accuracy: 0.8280 - val_loss: 0.4293 - val_accuracy: 0.8596\n",
            "Epoch 2/10\n",
            "1719/1719 [==============================] - 5s 3ms/step - loss: 0.3958 - accuracy: 0.8621 - val_loss: 0.3937 - val_accuracy: 0.8696\n",
            "Epoch 3/10\n",
            "1719/1719 [==============================] - 5s 3ms/step - loss: 0.3610 - accuracy: 0.8743 - val_loss: 0.4216 - val_accuracy: 0.8610\n",
            "Epoch 4/10\n",
            "1719/1719 [==============================] - 5s 3ms/step - loss: 0.3417 - accuracy: 0.8800 - val_loss: 0.3734 - val_accuracy: 0.8750\n",
            "Epoch 5/10\n",
            "1719/1719 [==============================] - 5s 3ms/step - loss: 0.3281 - accuracy: 0.8845 - val_loss: 0.3847 - val_accuracy: 0.8782\n",
            "Epoch 6/10\n",
            "1719/1719 [==============================] - 5s 3ms/step - loss: 0.3140 - accuracy: 0.8900 - val_loss: 0.4104 - val_accuracy: 0.8754\n",
            "Epoch 7/10\n",
            "1719/1719 [==============================] - 5s 3ms/step - loss: 0.3060 - accuracy: 0.8929 - val_loss: 0.4168 - val_accuracy: 0.8722\n",
            "Epoch 8/10\n",
            "1719/1719 [==============================] - 5s 3ms/step - loss: 0.2977 - accuracy: 0.8961 - val_loss: 0.4396 - val_accuracy: 0.8624\n",
            "Epoch 9/10\n",
            "1719/1719 [==============================] - 5s 3ms/step - loss: 0.2895 - accuracy: 0.8977 - val_loss: 0.4354 - val_accuracy: 0.8778\n",
            "Epoch 10/10\n",
            "1719/1719 [==============================] - 5s 3ms/step - loss: 0.2840 - accuracy: 0.9003 - val_loss: 0.4196 - val_accuracy: 0.8754\n",
            "313/313 [==============================] - 0s 1ms/step - loss: 0.4168 - accuracy: 0.8684\n"
          ]
        },
        {
          "output_type": "execute_result",
          "data": {
            "text/plain": [
              "[0.41682514548301697, 0.868399977684021]"
            ]
          },
          "metadata": {},
          "execution_count": 4
        }
      ]
    },
    {
      "cell_type": "markdown",
      "source": [
        "2) PReLu "
      ],
      "metadata": {
        "id": "PnZdBB0Uc1fp"
      }
    },
    {
      "cell_type": "code",
      "source": [
        "tf.random.set_seed(42)\n",
        "np.random.seed(42)\n",
        "model = keras.models.Sequential([\n",
        "    keras.layers.Flatten(input_shape=[28, 28]),\n",
        "    keras.layers.Dense(300),\n",
        "    keras.layers.PReLU(),\n",
        "    keras.layers.Dense(10, activation=\"softmax\")\n",
        "])\n",
        "model.compile(loss=\"sparse_categorical_crossentropy\",metrics=[\"accuracy\"])"
      ],
      "metadata": {
        "id": "vJzPSXbecQIN"
      },
      "execution_count": 5,
      "outputs": []
    },
    {
      "cell_type": "code",
      "source": [
        "history = model.fit(X_train, y_train, epochs=n_epochs,\n",
        "                    validation_data=(X_valid, y_valid))\n",
        "model.evaluate(X_test, y_test)"
      ],
      "metadata": {
        "colab": {
          "base_uri": "https://localhost:8080/"
        },
        "id": "Bfdqd71ndOA5",
        "outputId": "82b183f6-867d-4798-ac10-d0f8f17b6a6e"
      },
      "execution_count": 6,
      "outputs": [
        {
          "output_type": "stream",
          "name": "stdout",
          "text": [
            "Epoch 1/10\n",
            "1719/1719 [==============================] - 10s 6ms/step - loss: 0.5048 - accuracy: 0.8344 - val_loss: 0.4188 - val_accuracy: 0.8632\n",
            "Epoch 2/10\n",
            "1719/1719 [==============================] - 10s 6ms/step - loss: 0.3810 - accuracy: 0.8753 - val_loss: 0.4403 - val_accuracy: 0.8726\n",
            "Epoch 3/10\n",
            "1719/1719 [==============================] - 9s 5ms/step - loss: 0.3428 - accuracy: 0.8897 - val_loss: 0.5005 - val_accuracy: 0.8642\n",
            "Epoch 4/10\n",
            "1719/1719 [==============================] - 9s 5ms/step - loss: 0.3157 - accuracy: 0.8993 - val_loss: 0.4543 - val_accuracy: 0.8802\n",
            "Epoch 5/10\n",
            "1719/1719 [==============================] - 9s 5ms/step - loss: 0.2967 - accuracy: 0.9056 - val_loss: 0.5107 - val_accuracy: 0.8878\n",
            "Epoch 6/10\n",
            "1719/1719 [==============================] - 10s 6ms/step - loss: 0.2787 - accuracy: 0.9127 - val_loss: 0.4993 - val_accuracy: 0.8828\n",
            "Epoch 7/10\n",
            "1719/1719 [==============================] - 10s 6ms/step - loss: 0.2596 - accuracy: 0.9185 - val_loss: 0.5906 - val_accuracy: 0.8754\n",
            "Epoch 8/10\n",
            "1719/1719 [==============================] - 11s 6ms/step - loss: 0.2521 - accuracy: 0.9225 - val_loss: 0.6001 - val_accuracy: 0.8754\n",
            "Epoch 9/10\n",
            "1719/1719 [==============================] - 10s 6ms/step - loss: 0.2346 - accuracy: 0.9278 - val_loss: 0.6359 - val_accuracy: 0.8868\n",
            "Epoch 10/10\n",
            "1719/1719 [==============================] - 10s 6ms/step - loss: 0.2242 - accuracy: 0.9325 - val_loss: 0.6365 - val_accuracy: 0.8818\n",
            "313/313 [==============================] - 1s 2ms/step - loss: 0.5869 - accuracy: 0.8751\n"
          ]
        },
        {
          "output_type": "execute_result",
          "data": {
            "text/plain": [
              "[0.586923360824585, 0.8751000165939331]"
            ]
          },
          "metadata": {},
          "execution_count": 6
        }
      ]
    },
    {
      "cell_type": "markdown",
      "source": [
        "3) SeLu"
      ],
      "metadata": {
        "id": "dosk1_ojhRp5"
      }
    },
    {
      "cell_type": "code",
      "source": [
        "# Inside the sequential layer, we will add about 50 dense layers with \"selu\" activation function \n",
        "np.random.seed(42)\n",
        "tf.random.set_seed(42)\n",
        "model = keras.models.Sequential([\n",
        "          keras.layers.Flatten(input_shape=[28, 28]),\n",
        "        keras.layers.Dense(300),\n",
        "        keras.layers.Activation(keras.activations.selu),\n",
        "        keras.layers.Dense(10, activation=\"softmax\")\n",
        "])\n",
        "model.compile(loss=\"sparse_categorical_crossentropy\",metrics=[\"accuracy\"])"
      ],
      "metadata": {
        "id": "iwc7mm1Ri6Q8"
      },
      "execution_count": 7,
      "outputs": []
    },
    {
      "cell_type": "code",
      "source": [
        "history = model.fit(X_train, y_train, epochs=n_epochs,\n",
        "                    validation_data=(X_valid, y_valid))\n",
        "model.evaluate(X_test, y_test)"
      ],
      "metadata": {
        "colab": {
          "base_uri": "https://localhost:8080/"
        },
        "id": "NFtIc6OljXJO",
        "outputId": "29d53e6e-196c-4d80-bb6f-6913dbc70577"
      },
      "execution_count": 8,
      "outputs": [
        {
          "output_type": "stream",
          "name": "stdout",
          "text": [
            "Epoch 1/10\n",
            "1719/1719 [==============================] - 9s 5ms/step - loss: 0.5868 - accuracy: 0.8206 - val_loss: 0.4629 - val_accuracy: 0.8514\n",
            "Epoch 2/10\n",
            "1719/1719 [==============================] - 9s 5ms/step - loss: 0.3942 - accuracy: 0.8651 - val_loss: 0.3902 - val_accuracy: 0.8760\n",
            "Epoch 3/10\n",
            "1719/1719 [==============================] - 9s 5ms/step - loss: 0.3530 - accuracy: 0.8814 - val_loss: 0.4440 - val_accuracy: 0.8634\n",
            "Epoch 4/10\n",
            "1719/1719 [==============================] - 9s 5ms/step - loss: 0.3266 - accuracy: 0.8901 - val_loss: 0.4159 - val_accuracy: 0.8812\n",
            "Epoch 5/10\n",
            "1719/1719 [==============================] - 9s 5ms/step - loss: 0.3101 - accuracy: 0.8955 - val_loss: 0.4256 - val_accuracy: 0.8902\n",
            "Epoch 6/10\n",
            "1719/1719 [==============================] - 9s 5ms/step - loss: 0.2938 - accuracy: 0.9034 - val_loss: 0.4922 - val_accuracy: 0.8808\n",
            "Epoch 7/10\n",
            "1719/1719 [==============================] - 9s 5ms/step - loss: 0.2795 - accuracy: 0.9077 - val_loss: 0.4816 - val_accuracy: 0.8774\n",
            "Epoch 8/10\n",
            "1719/1719 [==============================] - 9s 5ms/step - loss: 0.2725 - accuracy: 0.9134 - val_loss: 0.5480 - val_accuracy: 0.8746\n",
            "Epoch 9/10\n",
            "1719/1719 [==============================] - 9s 5ms/step - loss: 0.2559 - accuracy: 0.9175 - val_loss: 0.5562 - val_accuracy: 0.8800\n",
            "Epoch 10/10\n",
            "1719/1719 [==============================] - 9s 5ms/step - loss: 0.2524 - accuracy: 0.9203 - val_loss: 0.5432 - val_accuracy: 0.8846\n",
            "313/313 [==============================] - 1s 2ms/step - loss: 0.4839 - accuracy: 0.8796\n"
          ]
        },
        {
          "output_type": "execute_result",
          "data": {
            "text/plain": [
              "[0.4838879406452179, 0.8795999884605408]"
            ]
          },
          "metadata": {},
          "execution_count": 8
        }
      ]
    },
    {
      "cell_type": "markdown",
      "source": [
        "# Batch Normalization"
      ],
      "metadata": {
        "id": "M7JuZlvZliX8"
      }
    },
    {
      "cell_type": "code",
      "source": [
        "# A batch Normalization layer added to stabilize the neurons\n",
        "model = keras.models.Sequential([\n",
        "    keras.layers.Flatten(input_shape=[28, 28]),\n",
        "    keras.layers.BatchNormalization(),\n",
        "    keras.layers.Dense(300, use_bias=False),\n",
        "    keras.layers.BatchNormalization(),\n",
        "    keras.layers.Activation(\"relu\"),\n",
        "    keras.layers.Dense(10, activation=\"softmax\")\n",
        "])\n",
        "model.compile(loss=\"sparse_categorical_crossentropy\",metrics=[\"accuracy\"])"
      ],
      "metadata": {
        "id": "lizwT__kjeyy"
      },
      "execution_count": 9,
      "outputs": []
    },
    {
      "cell_type": "code",
      "source": [
        "# fitting the model at n_epochs epochs\n",
        "history = model.fit(X_train, y_train, epochs=n_epochs,\n",
        "                    validation_data=(X_valid, y_valid))\n",
        "model.evaluate(X_test, y_test)"
      ],
      "metadata": {
        "colab": {
          "base_uri": "https://localhost:8080/"
        },
        "id": "hDIKsWeUpSlW",
        "outputId": "cd2f9e40-9fdc-446e-fbe8-2eaf66c33fdc"
      },
      "execution_count": 10,
      "outputs": [
        {
          "output_type": "stream",
          "name": "stdout",
          "text": [
            "Epoch 1/10\n",
            "1719/1719 [==============================] - 12s 7ms/step - loss: 0.4641 - accuracy: 0.8331 - val_loss: 0.3744 - val_accuracy: 0.8688\n",
            "Epoch 2/10\n",
            "1719/1719 [==============================] - 11s 6ms/step - loss: 0.3640 - accuracy: 0.8702 - val_loss: 0.3546 - val_accuracy: 0.8784\n",
            "Epoch 3/10\n",
            "1719/1719 [==============================] - 11s 6ms/step - loss: 0.3339 - accuracy: 0.8807 - val_loss: 0.3984 - val_accuracy: 0.8790\n",
            "Epoch 4/10\n",
            "1719/1719 [==============================] - 11s 6ms/step - loss: 0.3077 - accuracy: 0.8887 - val_loss: 0.3900 - val_accuracy: 0.8900\n",
            "Epoch 5/10\n",
            "1719/1719 [==============================] - 11s 6ms/step - loss: 0.2907 - accuracy: 0.8963 - val_loss: 0.3642 - val_accuracy: 0.8918\n",
            "Epoch 6/10\n",
            "1719/1719 [==============================] - 12s 7ms/step - loss: 0.2772 - accuracy: 0.9018 - val_loss: 0.3852 - val_accuracy: 0.8890\n",
            "Epoch 7/10\n",
            "1719/1719 [==============================] - 12s 7ms/step - loss: 0.2682 - accuracy: 0.9050 - val_loss: 0.3975 - val_accuracy: 0.8908\n",
            "Epoch 8/10\n",
            "1719/1719 [==============================] - 12s 7ms/step - loss: 0.2563 - accuracy: 0.9081 - val_loss: 0.4477 - val_accuracy: 0.8922\n",
            "Epoch 9/10\n",
            "1719/1719 [==============================] - 11s 6ms/step - loss: 0.2430 - accuracy: 0.9130 - val_loss: 0.5281 - val_accuracy: 0.8924\n",
            "Epoch 10/10\n",
            "1719/1719 [==============================] - 11s 7ms/step - loss: 0.2361 - accuracy: 0.9162 - val_loss: 0.5216 - val_accuracy: 0.8944\n",
            "313/313 [==============================] - 1s 2ms/step - loss: 0.4355 - accuracy: 0.8892\n"
          ]
        },
        {
          "output_type": "execute_result",
          "data": {
            "text/plain": [
              "[0.4355081617832184, 0.88919997215271]"
            ]
          },
          "metadata": {},
          "execution_count": 10
        }
      ]
    },
    {
      "cell_type": "markdown",
      "source": [
        "#**Gradient** **Clipping**"
      ],
      "metadata": {
        "id": "--Vb1DuFsr1R"
      }
    },
    {
      "cell_type": "code",
      "source": [
        "# A batch Normalization layer added to stabilize the neurons\n",
        "model = keras.models.Sequential([\n",
        "    keras.layers.Flatten(input_shape=[28, 28]),\n",
        "    keras.layers.BatchNormalization(),\n",
        "    keras.layers.Dense(300, use_bias=False),\n",
        "    keras.layers.BatchNormalization(),\n",
        "    keras.layers.Activation(\"relu\"),\n",
        "    keras.layers.Dense(10, activation=\"softmax\")\n",
        "])\n",
        "model.compile(loss=\"sparse_categorical_crossentropy\",\n",
        "              optimizer=keras.optimizers.SGD(learning_rate=1e-3,clipvalue=1.0),\n",
        "              metrics=[\"accuracy\"])"
      ],
      "metadata": {
        "id": "BnwbNKCgs1GL"
      },
      "execution_count": 11,
      "outputs": []
    },
    {
      "cell_type": "code",
      "source": [
        "history = model.fit(X_train, y_train, epochs=n_epochs,\n",
        "                    validation_data=(X_valid, y_valid))\n",
        "model.evaluate(X_test, y_test)"
      ],
      "metadata": {
        "colab": {
          "base_uri": "https://localhost:8080/"
        },
        "id": "84LJL-wls9Iz",
        "outputId": "da99bf1f-26c4-4e3a-d376-af67335b7e3e"
      },
      "execution_count": 12,
      "outputs": [
        {
          "output_type": "stream",
          "name": "stdout",
          "text": [
            "Epoch 1/10\n",
            "1719/1719 [==============================] - 11s 6ms/step - loss: 0.9820 - accuracy: 0.6761 - val_loss: 0.6513 - val_accuracy: 0.7848\n",
            "Epoch 2/10\n",
            "1719/1719 [==============================] - 10s 6ms/step - loss: 0.6433 - accuracy: 0.7810 - val_loss: 0.5598 - val_accuracy: 0.8182\n",
            "Epoch 3/10\n",
            "1719/1719 [==============================] - 9s 5ms/step - loss: 0.5762 - accuracy: 0.8035 - val_loss: 0.5591 - val_accuracy: 0.8314\n",
            "Epoch 4/10\n",
            "1719/1719 [==============================] - 10s 6ms/step - loss: 0.5344 - accuracy: 0.8152 - val_loss: 0.5088 - val_accuracy: 0.8370\n",
            "Epoch 5/10\n",
            "1719/1719 [==============================] - 10s 6ms/step - loss: 0.5080 - accuracy: 0.8234 - val_loss: 0.4700 - val_accuracy: 0.8438\n",
            "Epoch 6/10\n",
            "1719/1719 [==============================] - 10s 6ms/step - loss: 0.4898 - accuracy: 0.8294 - val_loss: 0.4572 - val_accuracy: 0.8518\n",
            "Epoch 7/10\n",
            "1719/1719 [==============================] - 10s 6ms/step - loss: 0.4753 - accuracy: 0.8366 - val_loss: 0.4448 - val_accuracy: 0.8534\n",
            "Epoch 8/10\n",
            "1719/1719 [==============================] - 10s 6ms/step - loss: 0.4644 - accuracy: 0.8378 - val_loss: 0.4491 - val_accuracy: 0.8578\n",
            "Epoch 9/10\n",
            "1719/1719 [==============================] - 10s 6ms/step - loss: 0.4544 - accuracy: 0.8409 - val_loss: 0.4779 - val_accuracy: 0.8592\n",
            "Epoch 10/10\n",
            "1719/1719 [==============================] - 9s 5ms/step - loss: 0.4442 - accuracy: 0.8455 - val_loss: 0.4327 - val_accuracy: 0.8592\n",
            "313/313 [==============================] - 1s 2ms/step - loss: 0.4529 - accuracy: 0.8429\n"
          ]
        },
        {
          "output_type": "execute_result",
          "data": {
            "text/plain": [
              "[0.45294809341430664, 0.8428999781608582]"
            ]
          },
          "metadata": {},
          "execution_count": 12
        }
      ]
    },
    {
      "cell_type": "markdown",
      "source": [
        "#Optimizers"
      ],
      "metadata": {
        "id": "BgkUZ9Wmwvyt"
      }
    },
    {
      "cell_type": "code",
      "source": [
        "# Adams Optimizer\n",
        "optimizer = keras.optimizers.Adam(learning_rate=0.001, beta_1=0.9, beta_2=0.999)\n",
        "#Nadam Optimizer\n",
        "optimizer = keras.optimizers.Nadam(learning_rate=0.001, beta_1=0.9, beta_2=0.999)\n",
        "#RMSProp Optimizer\n",
        "optimizer = keras.optimizers.RMSprop(learning_rate=0.001, rho=0.9)\n",
        "#Adamax Optimizer\n",
        "optimizer = keras.optimizers.Adamax(learning_rate=0.001, beta_1=0.9, beta_2=0.999)"
      ],
      "metadata": {
        "id": "V1IpwcNOw9zf"
      },
      "execution_count": 13,
      "outputs": []
    },
    {
      "cell_type": "markdown",
      "source": [
        "# Regularization"
      ],
      "metadata": {
        "id": "10YSN_iB8fu9"
      }
    },
    {
      "cell_type": "code",
      "source": [
        "# Defining, compile and train thje model at 10 Epochs\n",
        "model = keras.models.Sequential([\n",
        "    keras.layers.Flatten(input_shape=[28, 28]),\n",
        "    keras.layers.Dense(300, activation=\"elu\",\n",
        "                       kernel_initializer=\"he_normal\",\n",
        "                       kernel_regularizer=keras.regularizers.l2(0.01)),\n",
        "    keras.layers.Dense(100, activation=\"elu\",\n",
        "                       kernel_initializer=\"he_normal\",\n",
        "                       kernel_regularizer=keras.regularizers.l2(0.01)),\n",
        "    keras.layers.Dense(10, activation=\"softmax\",\n",
        "                       kernel_regularizer=keras.regularizers.l2(0.01))\n",
        "])\n",
        "model.compile(loss=\"sparse_categorical_crossentropy\", optimizer=\"nadam\", metrics=[\"accuracy\"])"
      ],
      "metadata": {
        "id": "DTCI1fjW8rxT"
      },
      "execution_count": 15,
      "outputs": []
    },
    {
      "cell_type": "code",
      "source": [
        "history = model.fit(X_train, y_train, epochs=n_epochs,\n",
        "                    validation_data=(X_valid, y_valid))\n",
        "model.evaluate(X_test, y_test)"
      ],
      "metadata": {
        "colab": {
          "base_uri": "https://localhost:8080/"
        },
        "id": "6Cnz9W_o4FZa",
        "outputId": "3be5dbb5-5140-432f-afd2-70349e7a1fcf"
      },
      "execution_count": 16,
      "outputs": [
        {
          "output_type": "stream",
          "name": "stdout",
          "text": [
            "Epoch 1/10\n",
            "1719/1719 [==============================] - 16s 9ms/step - loss: 1.5816 - accuracy: 0.8115 - val_loss: 0.7197 - val_accuracy: 0.8302\n",
            "Epoch 2/10\n",
            "1719/1719 [==============================] - 14s 8ms/step - loss: 0.7210 - accuracy: 0.8276 - val_loss: 0.6862 - val_accuracy: 0.8360\n",
            "Epoch 3/10\n",
            "1719/1719 [==============================] - 15s 8ms/step - loss: 0.7013 - accuracy: 0.8328 - val_loss: 0.7035 - val_accuracy: 0.8314\n",
            "Epoch 4/10\n",
            "1719/1719 [==============================] - 14s 8ms/step - loss: 0.6942 - accuracy: 0.8360 - val_loss: 0.6776 - val_accuracy: 0.8440\n",
            "Epoch 5/10\n",
            "1719/1719 [==============================] - 14s 8ms/step - loss: 0.6898 - accuracy: 0.8383 - val_loss: 0.6614 - val_accuracy: 0.8480\n",
            "Epoch 6/10\n",
            "1719/1719 [==============================] - 15s 9ms/step - loss: 0.6872 - accuracy: 0.8382 - val_loss: 0.6645 - val_accuracy: 0.8536\n",
            "Epoch 7/10\n",
            "1719/1719 [==============================] - 14s 8ms/step - loss: 0.6860 - accuracy: 0.8396 - val_loss: 0.6604 - val_accuracy: 0.8468\n",
            "Epoch 8/10\n",
            "1719/1719 [==============================] - 14s 8ms/step - loss: 0.6840 - accuracy: 0.8406 - val_loss: 0.7393 - val_accuracy: 0.8214\n",
            "Epoch 9/10\n",
            "1719/1719 [==============================] - 14s 8ms/step - loss: 0.6841 - accuracy: 0.8398 - val_loss: 0.6571 - val_accuracy: 0.8504\n",
            "Epoch 10/10\n",
            "1719/1719 [==============================] - 15s 9ms/step - loss: 0.6811 - accuracy: 0.8407 - val_loss: 0.6589 - val_accuracy: 0.8456\n",
            "313/313 [==============================] - 1s 3ms/step - loss: 0.6921 - accuracy: 0.8338\n"
          ]
        },
        {
          "output_type": "execute_result",
          "data": {
            "text/plain": [
              "[0.6921184062957764, 0.8338000178337097]"
            ]
          },
          "metadata": {},
          "execution_count": 16
        }
      ]
    },
    {
      "cell_type": "markdown",
      "source": [
        "# Dropout"
      ],
      "metadata": {
        "id": "rkZHmwZL8ysS"
      }
    },
    {
      "cell_type": "code",
      "source": [
        "model = keras.models.Sequential([\n",
        "    keras.layers.Flatten(input_shape=[28, 28]),\n",
        "    keras.layers.Dropout(rate=0.2),\n",
        "    keras.layers.Dense(100, activation=\"elu\", kernel_initializer=\"he_normal\"),\n",
        "    keras.layers.Dropout(rate=0.2),\n",
        "    keras.layers.Dense(10, activation=\"softmax\")\n",
        "])\n",
        "model.compile(loss=\"sparse_categorical_crossentropy\", metrics=[\"accuracy\"])"
      ],
      "metadata": {
        "id": "yUxQs0D49dQz"
      },
      "execution_count": 17,
      "outputs": []
    },
    {
      "cell_type": "code",
      "source": [
        "history = model.fit(X_train, y_train, epochs=n_epochs,\n",
        "                    validation_data=(X_valid, y_valid))\n",
        "model.evaluate(X_test, y_test)"
      ],
      "metadata": {
        "colab": {
          "base_uri": "https://localhost:8080/"
        },
        "id": "Y2uGEpgj4Hx7",
        "outputId": "bd4f4361-b75d-4691-fd7e-0b25f77e7b21"
      },
      "execution_count": 18,
      "outputs": [
        {
          "output_type": "stream",
          "name": "stdout",
          "text": [
            "Epoch 1/10\n",
            "1719/1719 [==============================] - 7s 4ms/step - loss: 0.5859 - accuracy: 0.8088 - val_loss: 0.4262 - val_accuracy: 0.8524\n",
            "Epoch 2/10\n",
            "1719/1719 [==============================] - 6s 3ms/step - loss: 0.4524 - accuracy: 0.8470 - val_loss: 0.3981 - val_accuracy: 0.8734\n",
            "Epoch 3/10\n",
            "1719/1719 [==============================] - 6s 4ms/step - loss: 0.4282 - accuracy: 0.8552 - val_loss: 0.4084 - val_accuracy: 0.8720\n",
            "Epoch 4/10\n",
            "1719/1719 [==============================] - 6s 3ms/step - loss: 0.4111 - accuracy: 0.8645 - val_loss: 0.3871 - val_accuracy: 0.8808\n",
            "Epoch 5/10\n",
            "1719/1719 [==============================] - 6s 4ms/step - loss: 0.4119 - accuracy: 0.8677 - val_loss: 0.3860 - val_accuracy: 0.8814\n",
            "Epoch 6/10\n",
            "1719/1719 [==============================] - 6s 3ms/step - loss: 0.3961 - accuracy: 0.8700 - val_loss: 0.4117 - val_accuracy: 0.8820\n",
            "Epoch 7/10\n",
            "1719/1719 [==============================] - 6s 3ms/step - loss: 0.3979 - accuracy: 0.8725 - val_loss: 0.4182 - val_accuracy: 0.8802\n",
            "Epoch 8/10\n",
            "1719/1719 [==============================] - 6s 3ms/step - loss: 0.3980 - accuracy: 0.8728 - val_loss: 0.4319 - val_accuracy: 0.8814\n",
            "Epoch 9/10\n",
            "1719/1719 [==============================] - 6s 3ms/step - loss: 0.3914 - accuracy: 0.8750 - val_loss: 0.3953 - val_accuracy: 0.8858\n",
            "Epoch 10/10\n",
            "1719/1719 [==============================] - 6s 4ms/step - loss: 0.3943 - accuracy: 0.8774 - val_loss: 0.4141 - val_accuracy: 0.8874\n",
            "313/313 [==============================] - 1s 2ms/step - loss: 0.4109 - accuracy: 0.8772\n"
          ]
        },
        {
          "output_type": "execute_result",
          "data": {
            "text/plain": [
              "[0.41087818145751953, 0.8772000074386597]"
            ]
          },
          "metadata": {},
          "execution_count": 18
        }
      ]
    },
    {
      "cell_type": "markdown",
      "source": [
        "Alpha Dropout"
      ],
      "metadata": {
        "id": "IZK_SAvB9lp-"
      }
    },
    {
      "cell_type": "code",
      "source": [
        "tf.random.set_seed(42)\n",
        "np.random.seed(42)\n",
        "model = keras.models.Sequential([\n",
        "    keras.layers.Flatten(input_shape=[28, 28]),\n",
        "    keras.layers.AlphaDropout(rate=0.2),\n",
        "    keras.layers.Dense(100, activation=\"selu\", kernel_initializer=\"lecun_normal\"),\n",
        "    keras.layers.AlphaDropout(rate=0.2),\n",
        "    keras.layers.Dense(10, activation=\"softmax\")\n",
        "])\n",
        "model.compile(loss=\"sparse_categorical_crossentropy\",\n",
        "              optimizer=keras.optimizers.SGD(learning_rate=0.01, momentum=0.9, nesterov=True),\n",
        "              metrics=[\"accuracy\"])"
      ],
      "metadata": {
        "id": "QCKyLtGP9tBm"
      },
      "execution_count": 19,
      "outputs": []
    },
    {
      "cell_type": "code",
      "source": [
        "history = model.fit(X_train, y_train, epochs=n_epochs,\n",
        "                    validation_data=(X_valid, y_valid))\n",
        "model.evaluate(X_test, y_test)"
      ],
      "metadata": {
        "colab": {
          "base_uri": "https://localhost:8080/"
        },
        "id": "H3r6Ej9j4JOv",
        "outputId": "50ec6c8f-a851-4b53-dd71-ef8e8f41013a"
      },
      "execution_count": 20,
      "outputs": [
        {
          "output_type": "stream",
          "name": "stdout",
          "text": [
            "Epoch 1/10\n",
            "1719/1719 [==============================] - 6s 3ms/step - loss: 0.6253 - accuracy: 0.7741 - val_loss: 0.5054 - val_accuracy: 0.8476\n",
            "Epoch 2/10\n",
            "1719/1719 [==============================] - 5s 3ms/step - loss: 0.5403 - accuracy: 0.8024 - val_loss: 0.5178 - val_accuracy: 0.8452\n",
            "Epoch 3/10\n",
            "1719/1719 [==============================] - 5s 3ms/step - loss: 0.5156 - accuracy: 0.8111 - val_loss: 0.5186 - val_accuracy: 0.8494\n",
            "Epoch 4/10\n",
            "1719/1719 [==============================] - 5s 3ms/step - loss: 0.5042 - accuracy: 0.8151 - val_loss: 0.4715 - val_accuracy: 0.8636\n",
            "Epoch 5/10\n",
            "1719/1719 [==============================] - 5s 3ms/step - loss: 0.4930 - accuracy: 0.8176 - val_loss: 0.4617 - val_accuracy: 0.8650\n",
            "Epoch 6/10\n",
            "1719/1719 [==============================] - 5s 3ms/step - loss: 0.4824 - accuracy: 0.8228 - val_loss: 0.4961 - val_accuracy: 0.8628\n",
            "Epoch 7/10\n",
            "1719/1719 [==============================] - 5s 3ms/step - loss: 0.4765 - accuracy: 0.8250 - val_loss: 0.4849 - val_accuracy: 0.8588\n",
            "Epoch 8/10\n",
            "1719/1719 [==============================] - 5s 3ms/step - loss: 0.4747 - accuracy: 0.8258 - val_loss: 0.4656 - val_accuracy: 0.8684\n",
            "Epoch 9/10\n",
            "1719/1719 [==============================] - 5s 3ms/step - loss: 0.4681 - accuracy: 0.8281 - val_loss: 0.4597 - val_accuracy: 0.8732\n",
            "Epoch 10/10\n",
            "1719/1719 [==============================] - 5s 3ms/step - loss: 0.4618 - accuracy: 0.8303 - val_loss: 0.4885 - val_accuracy: 0.8634\n",
            "313/313 [==============================] - 1s 2ms/step - loss: 0.5160 - accuracy: 0.8537\n"
          ]
        },
        {
          "output_type": "execute_result",
          "data": {
            "text/plain": [
              "[0.5160199403762817, 0.8536999821662903]"
            ]
          },
          "metadata": {},
          "execution_count": 20
        }
      ]
    }
  ]
}